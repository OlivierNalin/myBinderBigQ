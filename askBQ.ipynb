{
 "cells": [
  {
   "cell_type": "markdown",
   "metadata": {},
   "source": [
    "## Extraction des données de débit 6mn du  RAD stockées dans BigQuery\n",
    "A titre de démonstration, les données 2019 de débit 6mn de 150 stations ont été placées dans une base BigQuery.\n",
    "\n",
    "BigQuery est un service proposé par la Google Cloud Platform (GCP).\n",
    "\n",
    "Pour permettre des applications temps réel, il faudrait que SIRIUS alimente BigQuery en continu (toutes les minutes ?)."
   ]
  },
  {
   "cell_type": "code",
   "execution_count": 19,
   "metadata": {},
   "outputs": [
    {
     "name": "stdout",
     "output_type": "stream",
     "text": [
      "Pour utiliser ce service, il faut disposer d'un compte sur Google Cloud Platform (GCP) et créer un \"service_account\". \n",
      "GCP permet de créer un fichier (.json) qui contient la clé de ce compte. \n",
      "Importer ci-dessous (\"upload\") le fichier de la clé du \"service_account\". \n"
     ]
    },
    {
     "data": {
      "application/vnd.jupyter.widget-view+json": {
       "model_id": "28873e41a0cd4f4c83994be2f299e343",
       "version_major": 2,
       "version_minor": 0
      },
      "text/plain": [
       "FileUpload(value={}, description='Upload')"
      ]
     },
     "metadata": {},
     "output_type": "display_data"
    }
   ],
   "source": [
    "import matplotlib.pyplot as plt\n",
    "import pandas as pd\n",
    "import numpy as np,io,codecs,json\n",
    "from random import *\n",
    "from datetime import datetime\n",
    "import matplotlib.colors as mcolors\n",
    "from ipywidgets import *\n",
    "from google.cloud import bigquery\n",
    "from google.oauth2 import service_account\n",
    "def qrSt(stV,dtDeb,dtFin):\n",
    "    d1=str(dtDeb.value.timetuple().tm_yday)\n",
    "    d2=str(dtFin.value.timetuple().tm_yday)   \n",
    "    q1 = \"\"\"\n",
    "    SELECT P6mn,Db,jr FROM (\n",
    "        SELECT  Stat,P6mn,Db,EXTRACT(year FROM dt) AS an,EXTRACT(dayofyear FROM dt) AS jr FROM\n",
    "          `dirif25.6mn.bsDbt1` WHERE Stat=\\\"\"\"\"\n",
    "    q2=\"\\\"  ) WHERE  an=2019 and (jr+1)>\"\n",
    "    q3=\" and (jr-1)<\"\n",
    "    q4=\" order by jr,P6mn\"\n",
    "    query=q1+stV+q2+d1+q3+d2+q4\n",
    "    res=client.query(query).to_dataframe().astype(int)\n",
    "    res['date']=pd.to_datetime(2019000+res['jr'],format='%Y%j'   )\n",
    "    return res[['date','P6mn','Db']]\n",
    "print('Pour utiliser ce service, il faut disposer d\\'un compte sur Google Cloud Platform (GCP) et créer un \"service_account\". ')\n",
    "print('GCP permet de créer un fichier (.json) qui contient la clé de ce compte. ')\n",
    "print('Importer ci-dessous (\"upload\") le fichier de la clé du \"service_account\". ')\n",
    "def on_upload_change(change):\n",
    "    global client,dic\n",
    "    upl_dc=codecs.decode((list(upl.value.values())[0]['content']))\n",
    "    credentials=service_account.Credentials.from_service_account_info(json.loads(upl_dc))\n",
    "    client = bigquery.Client(credentials= credentials,project='dirif25')\n",
    "    quer=\"\"\"\n",
    "    Select distinct Stat,Axe from `dirif25.6mn.lstSt`\n",
    "    \"\"\"\n",
    "    lstSt=client.query(quer).to_dataframe()\n",
    "    lstAx=list(lstSt['Axe'].unique())\n",
    "    dic={}\n",
    "    for x in lstAx:\n",
    "        dic[x]=list(lstSt[lstSt['Axe']==x]['Stat'].sort_values().values)        \n",
    "upl=FileUpload()\n",
    "display(upl)\n",
    "upl.observe(on_upload_change, names='_counter')"
   ]
  },
  {
   "cell_type": "markdown",
   "metadata": {},
   "source": [
    "##  Axe et point de mesure"
   ]
  },
  {
   "cell_type": "code",
   "execution_count": 20,
   "metadata": {},
   "outputs": [
    {
     "name": "stdout",
     "output_type": "stream",
     "text": [
      "Choisir, dans un premier temps, l'axe du point de mesure, dans la liste déroulante.\n",
      "Puis, sélectionner le point de mesure.\n"
     ]
    },
    {
     "data": {
      "application/vnd.jupyter.widget-view+json": {
       "model_id": "702c65ea297545f1bef2f33ff12bdcde",
       "version_major": 2,
       "version_minor": 0
      },
      "text/plain": [
       "interactive(children=(Dropdown(description='Axe', options=('A1-W', 'A1-Y', 'A3-W', 'A3-Y', 'A4-W', 'A4-Y', 'A6…"
      ]
     },
     "metadata": {},
     "output_type": "display_data"
    }
   ],
   "source": [
    "print('Choisir, dans un premier temps, l\\'axe du point de mesure, dans la liste déroulante.\\nPuis, sélectionner le point de mesure.')\n",
    "axeW = Dropdown(options = dic.keys())\n",
    "statW = Dropdown(options = dic[axeW.value])\n",
    "@interact(Axe = axeW, PointMesure = statW)\n",
    "def print_city(Axe, PointMesure):\n",
    "   statW.options = dic[Axe]"
   ]
  },
  {
   "cell_type": "markdown",
   "metadata": {},
   "source": [
    "## Période d'extraction"
   ]
  },
  {
   "cell_type": "code",
   "execution_count": 16,
   "metadata": {},
   "outputs": [
    {
     "name": "stdout",
     "output_type": "stream",
     "text": [
      "Renseigner ci-dessous la période pour laquelle faire une extraction\n"
     ]
    },
    {
     "data": {
      "application/vnd.jupyter.widget-view+json": {
       "model_id": "9e119cede7744c529ab34e6bdd3be653",
       "version_major": 2,
       "version_minor": 0
      },
      "text/plain": [
       "VBox(children=(DatePicker(value=datetime.datetime(2019, 1, 3, 0, 0), description='Début'), DatePicker(value=da…"
      ]
     },
     "metadata": {},
     "output_type": "display_data"
    }
   ],
   "source": [
    "dtDeb=widgets.DatePicker(description='Début', value=datetime(2019,1,3))\n",
    "dtFin=widgets.DatePicker(description='Fin', value=datetime(2019,10,31))\n",
    "print('Renseigner ci-dessous la période pour laquelle faire une extraction')\n",
    "VBox([dtDeb,dtFin])\n"
   ]
  },
  {
   "cell_type": "markdown",
   "metadata": {},
   "source": [
    "## Export de la sélection"
   ]
  },
  {
   "cell_type": "code",
   "execution_count": 56,
   "metadata": {},
   "outputs": [],
   "source": [
    "resultat=qrSt(statW.value,dtDeb,dtFin)\n",
    "fch='expDb6mn'+statW.value.split('/')[0]+statW.value.split('/')[1][:2]+'_d'+str(dtDeb.value)[5:]+'_f'+str(dtFin.value)[5:] + '.csv'\n",
    "resultat.to_csv(fch)"
   ]
  },
  {
   "cell_type": "code",
   "execution_count": 57,
   "metadata": {},
   "outputs": [
    {
     "name": "stdout",
     "output_type": "stream",
     "text": [
      "Les données manquantes sont en jaune\n"
     ]
    },
    {
     "data": {
      "image/png": "[encoded data removed]",
      "text/plain": [
       "<Figure size 864x720 with 1 Axes>"
      ]
     },
     "metadata": {
      "needs_background": "light"
     },
     "output_type": "display_data"
    }
   ],
   "source": [
    "res=resultat[(resultat['P6mn']>59)&(resultat['P6mn']<211)]\n",
    "res=(res.set_index(['date','P6mn'])).isna().unstack('P6mn').fillna(True).astype(int)\n",
    "fig,ax=plt.subplots(figsize=(12,10))\n",
    "ax.imshow(res,aspect='auto')\n",
    "ax.set_xticks([x*10 for x in range(16)])\n",
    "ax.set_xticklabels(range(6,22))\n",
    "print('Les données manquantes sont en jaune')"
   ]
  },
  {
   "cell_type": "code",
   "execution_count": 53,
   "metadata": {},
   "outputs": [
    {
     "data": {
      "text/plain": [
       "'expDb6mnN104-E10_d03-01_f05-31.csv'"
      ]
     },
     "execution_count": 53,
     "metadata": {},
     "output_type": "execute_result"
    }
   ],
   "source": []
  },
  {
   "cell_type": "code",
   "execution_count": null,
   "metadata": {},
   "outputs": [],
   "source": []
  }
 ],
 "metadata": {
  "kernelspec": {
   "display_name": "Python 3",
   "language": "python",
   "name": "python3"
  },
  "language_info": {
   "codemirror_mode": {
    "name": "ipython",
    "version": 3
   },
   "file_extension": ".py",
   "mimetype": "text/x-python",
   "name": "python",
   "nbconvert_exporter": "python",
   "pygments_lexer": "ipython3",
   "version": "3.8.3"
  }
 },
 "nbformat": 4,
 "nbformat_minor": 2
}
