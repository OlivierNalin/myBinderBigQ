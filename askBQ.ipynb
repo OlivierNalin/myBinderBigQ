{
 "cells": [
  {
   "cell_type": "markdown",
   "metadata": {},
   "source": [
    "### Extraction des données du  RAD exportées dans BQ"
   ]
  },
  {
   "cell_type": "code",
   "execution_count": 208,
   "metadata": {},
   "outputs": [],
   "source": [
    "import matplotlib.pyplot as plt\n",
    "import pandas as pd\n",
    "import numpy as np,io,codecs,json\n",
    "from random import *\n",
    "from datetime import datetime\n",
    "import matplotlib.colors as mcolors\n",
    "from ipywidgets import *\n",
    "from google.cloud import bigquery\n",
    "from google.oauth2 import service_account\n",
    "cleSec=widgets.Text( description='Entrer la clé : ')"
   ]
  },
  {
   "cell_type": "code",
   "execution_count": 221,
   "metadata": {},
   "outputs": [
    {
     "name": "stdout",
     "output_type": "stream",
     "text": [
      "Pour utiliser ce service, il faut disposer d'un compte sur Google Cloud Platform (GCP) et créer un \"service_account\". \n",
      "GCP permet de créer un fichier (.json) qui contient la clé de ce compte. \n",
      "Importer ci-dessous (\"upload\") le fichier de la clé du \"service_account\". \n"
     ]
    },
    {
     "data": {
      "application/vnd.jupyter.widget-view+json": {
       "model_id": "ff30ec314b6645d3ae6e94eeb0d6eb48",
       "version_major": 2,
       "version_minor": 0
      },
      "text/plain": [
       "FileUpload(value={}, description='Upload')"
      ]
     },
     "metadata": {},
     "output_type": "display_data"
    }
   ],
   "source": [
    "print('Pour utiliser ce service, il faut disposer d\\'un compte sur Google Cloud Platform (GCP) et créer un \"service_account\". ')\n",
    "print('GCP permet de créer un fichier (.json) qui contient la clé de ce compte. ')\n",
    "print('Importer ci-dessous (\"upload\") le fichier de la clé du \"service_account\". ')\n",
    "def on_upload_change(change):\n",
    "    global client\n",
    "    upl_dc=codecs.decode((list(upl.value.values())[0]['content']))\n",
    "    credentials=service_account.Credentials.from_service_account_info(json.loads(upl_dc))\n",
    "    client = bigquery.Client(credentials= credentials,project='dirif25')\n",
    "upl=FileUpload()\n",
    "display(upl)\n",
    "upl.observe(on_upload_change, names='_counter')"
   ]
  },
  {
   "cell_type": "code",
   "execution_count": 217,
   "metadata": {},
   "outputs": [],
   "source": [
    "quer=\"\"\"\n",
    "    Select distinct Stat,Axe from `dirif25.6mn.lstSt`\n",
    "    \"\"\"\n",
    "lstSt=client.query(quer).to_dataframe()\n",
    "lstAx=list(lstSt['Axe'].unique())\n",
    "dic={}\n",
    "for x in lstAx:\n",
    "    dic[x]=list(lstSt[lstSt['Axe']==x]['Stat'].values)"
   ]
  },
  {
   "cell_type": "code",
   "execution_count": 130,
   "metadata": {},
   "outputs": [
    {
     "name": "stdout",
     "output_type": "stream",
     "text": [
      "Choisir, dans un premier temps, l'axe du point de mesure, dans la liste déroulante.\n",
      "Puis, sélectionner le point de mesure.\n"
     ]
    },
    {
     "data": {
      "application/vnd.jupyter.widget-view+json": {
       "model_id": "7eeeab92d98d44de9b65ced2a785630d",
       "version_major": 2,
       "version_minor": 0
      },
      "text/plain": [
       "interactive(children=(Dropdown(description='Axe', options=('A1-W', 'A1-Y', 'A3-W', 'A3-Y', 'A4-W', 'A4-Y', 'A6…"
      ]
     },
     "metadata": {},
     "output_type": "display_data"
    }
   ],
   "source": [
    "print('Choisir, dans un premier temps, l\\'axe du point de mesure, dans la liste déroulante.\\nPuis, sélectionner le point de mesure.')\n",
    "axeW = Dropdown(options = dic.keys())\n",
    "statW = Dropdown(options = dic[axeW.value])\n",
    "@interact(Axe = axeW, PointMesure = statW)\n",
    "def print_city(Axe, PointMesure):\n",
    "   statW.options = dic[Axe] "
   ]
  },
  {
   "cell_type": "code",
   "execution_count": 138,
   "metadata": {},
   "outputs": [
    {
     "data": {
      "text/plain": [
       "'A13-W/03+0400/P'"
      ]
     },
     "execution_count": 138,
     "metadata": {},
     "output_type": "execute_result"
    }
   ],
   "source": [
    "statW.value"
   ]
  },
  {
   "cell_type": "code",
   "execution_count": 124,
   "metadata": {},
   "outputs": [
    {
     "name": "stdout",
     "output_type": "stream",
     "text": [
      "Renseigner la période pour laquelle faire une extraction\n"
     ]
    },
    {
     "data": {
      "application/vnd.jupyter.widget-view+json": {
       "model_id": "7d1267bdf4c1491ca1583ec1019d901a",
       "version_major": 2,
       "version_minor": 0
      },
      "text/plain": [
       "VBox(children=(DatePicker(value=datetime.datetime(2019, 1, 3, 0, 0), description='Début'), DatePicker(value=da…"
      ]
     },
     "metadata": {},
     "output_type": "display_data"
    }
   ],
   "source": [
    "dtDeb=widgets.DatePicker(description='Début', value=datetime(2019,1,3))\n",
    "dtFin=widgets.DatePicker(description='Fin', value=datetime(2019,10,31))\n",
    "print('Renseigner ci-dessous la période pour laquelle faire une extraction')\n",
    "VBox([dtDeb,dtFin])"
   ]
  },
  {
   "cell_type": "code",
   "execution_count": 135,
   "metadata": {},
   "outputs": [],
   "source": [
    "def qrSt(stV,dtDeb,dtFin):\n",
    "    d1=str(dtDeb.value.timetuple().tm_yday)\n",
    "    d2=str(dtFin.value.timetuple().tm_yday)   \n",
    "    q1 = \"\"\"\n",
    "    SELECT P6mn,Db,jr FROM (\n",
    "        SELECT  Stat,P6mn,Db,EXTRACT(year FROM dt) AS an,EXTRACT(dayofyear FROM dt) AS jr FROM\n",
    "          `dirif25.6mn.bsDbt1` WHERE Stat=\\\"\"\"\"\n",
    "    q2=\"\\\"  ) WHERE  an=2019 and (jr+1)>\"\n",
    "    q3=\" and (jr-1)<\"\n",
    "    q4=\" order by jr,P6mn\"\n",
    "    query=q1+stV+q2+d1+q3+d2+q4\n",
    "    res=client.query(query).to_dataframe().astype(int)\n",
    "    res['date']=pd.to_datetime(2019000+res['jr'],format='%Y%j'   )\n",
    "    return res[['date','P6mn','Db']]\n",
    "\n"
   ]
  },
  {
   "cell_type": "code",
   "execution_count": 137,
   "metadata": {},
   "outputs": [
    {
     "data": {
      "text/html": [
       "<div>\n",
       "<style scoped>\n",
       "    .dataframe tbody tr th:only-of-type {\n",
       "        vertical-align: middle;\n",
       "    }\n",
       "\n",
       "    .dataframe tbody tr th {\n",
       "        vertical-align: top;\n",
       "    }\n",
       "\n",
       "    .dataframe thead th {\n",
       "        text-align: right;\n",
       "    }\n",
       "</style>\n",
       "<table border=\"1\" class=\"dataframe\">\n",
       "  <thead>\n",
       "    <tr style=\"text-align: right;\">\n",
       "      <th></th>\n",
       "      <th>date</th>\n",
       "      <th>P6mn</th>\n",
       "      <th>Db</th>\n",
       "    </tr>\n",
       "  </thead>\n",
       "  <tbody>\n",
       "    <tr>\n",
       "      <th>0</th>\n",
       "      <td>2019-01-03</td>\n",
       "      <td>1</td>\n",
       "      <td>188</td>\n",
       "    </tr>\n",
       "    <tr>\n",
       "      <th>1</th>\n",
       "      <td>2019-01-03</td>\n",
       "      <td>2</td>\n",
       "      <td>159</td>\n",
       "    </tr>\n",
       "    <tr>\n",
       "      <th>2</th>\n",
       "      <td>2019-01-03</td>\n",
       "      <td>3</td>\n",
       "      <td>185</td>\n",
       "    </tr>\n",
       "    <tr>\n",
       "      <th>3</th>\n",
       "      <td>2019-01-03</td>\n",
       "      <td>4</td>\n",
       "      <td>181</td>\n",
       "    </tr>\n",
       "    <tr>\n",
       "      <th>4</th>\n",
       "      <td>2019-01-03</td>\n",
       "      <td>5</td>\n",
       "      <td>171</td>\n",
       "    </tr>\n",
       "    <tr>\n",
       "      <th>...</th>\n",
       "      <td>...</td>\n",
       "      <td>...</td>\n",
       "      <td>...</td>\n",
       "    </tr>\n",
       "    <tr>\n",
       "      <th>69440</th>\n",
       "      <td>2019-10-31</td>\n",
       "      <td>236</td>\n",
       "      <td>315</td>\n",
       "    </tr>\n",
       "    <tr>\n",
       "      <th>69441</th>\n",
       "      <td>2019-10-31</td>\n",
       "      <td>237</td>\n",
       "      <td>341</td>\n",
       "    </tr>\n",
       "    <tr>\n",
       "      <th>69442</th>\n",
       "      <td>2019-10-31</td>\n",
       "      <td>238</td>\n",
       "      <td>306</td>\n",
       "    </tr>\n",
       "    <tr>\n",
       "      <th>69443</th>\n",
       "      <td>2019-10-31</td>\n",
       "      <td>239</td>\n",
       "      <td>324</td>\n",
       "    </tr>\n",
       "    <tr>\n",
       "      <th>69444</th>\n",
       "      <td>2019-10-31</td>\n",
       "      <td>240</td>\n",
       "      <td>286</td>\n",
       "    </tr>\n",
       "  </tbody>\n",
       "</table>\n",
       "<p>69445 rows × 3 columns</p>\n",
       "</div>"
      ],
      "text/plain": [
       "            date  P6mn   Db\n",
       "0     2019-01-03     1  188\n",
       "1     2019-01-03     2  159\n",
       "2     2019-01-03     3  185\n",
       "3     2019-01-03     4  181\n",
       "4     2019-01-03     5  171\n",
       "...          ...   ...  ...\n",
       "69440 2019-10-31   236  315\n",
       "69441 2019-10-31   237  341\n",
       "69442 2019-10-31   238  306\n",
       "69443 2019-10-31   239  324\n",
       "69444 2019-10-31   240  286\n",
       "\n",
       "[69445 rows x 3 columns]"
      ]
     },
     "execution_count": 137,
     "metadata": {},
     "output_type": "execute_result"
    }
   ],
   "source": [
    "resultat=qrSt(statW.value,dtDeb,dtFin)\n",
    "resultat.to_csv('resultat.csv')\n",
    "resultat"
   ]
  },
  {
   "cell_type": "code",
   "execution_count": null,
   "metadata": {},
   "outputs": [],
   "source": []
  },
  {
   "cell_type": "code",
   "execution_count": null,
   "metadata": {},
   "outputs": [],
   "source": []
  }
 ],
 "metadata": {
  "kernelspec": {
   "display_name": "Python 3",
   "language": "python",
   "name": "python3"
  },
  "language_info": {
   "codemirror_mode": {
    "name": "ipython",
    "version": 3
   },
   "file_extension": ".py",
   "mimetype": "text/x-python",
   "name": "python",
   "nbconvert_exporter": "python",
   "pygments_lexer": "ipython3",
   "version": "3.8.3"
  }
 },
 "nbformat": 4,
 "nbformat_minor": 2
}
