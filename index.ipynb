import matplotlib.pyplot as plt
import pandas as pd
import numpy as np
from random import *
from datetime import datetime
import matplotlib.colors as mcolors
from google.cloud import bigquery
